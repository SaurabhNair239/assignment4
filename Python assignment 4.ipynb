{
 "cells": [
  {
   "cell_type": "markdown",
   "metadata": {},
   "source": [
    "# Program 1.1"
   ]
  },
  {
   "cell_type": "code",
   "execution_count": 9,
   "metadata": {},
   "outputs": [
    {
     "name": "stdout",
     "output_type": "stream",
     "text": [
      "44.8998886412873\n"
     ]
    }
   ],
   "source": [
    "class parent:\n",
    "    s_a = 0\n",
    "    def fetch(self,s_a,s_b,s_c):\n",
    "          self.s_a = s_a\n",
    "          self.s_b = s_b\n",
    "          self.s_c = s_c\n",
    "        \n",
    "class child(parent):\n",
    "    def calculate(self):\n",
    "        area = (3*(self.s_a)*(self.s_b)*(self.s_c)) ** 0.5\n",
    "        print(area)\n",
    "e = child()\n",
    "e.fetch(4,14,12)\n",
    "e.calculate()"
   ]
  },
  {
   "cell_type": "markdown",
   "metadata": {},
   "source": [
    "# Program 1.2"
   ]
  },
  {
   "cell_type": "code",
   "execution_count": 3,
   "metadata": {},
   "outputs": [],
   "source": [
    "def filter_long_words(l,n):\n",
    "    result = []\n",
    "    for i in l:\n",
    "        if len(i)>n:\n",
    "            result.append(i)\n",
    "    return result"
   ]
  },
  {
   "cell_type": "code",
   "execution_count": 7,
   "metadata": {},
   "outputs": [],
   "source": [
    "list1 = ['what','is','your','name','I','am','from','India','jai','hind']\n",
    "ans = filter_long_words(list1,3)"
   ]
  },
  {
   "cell_type": "code",
   "execution_count": 8,
   "metadata": {},
   "outputs": [
    {
     "data": {
      "text/plain": [
       "['what', 'your', 'name', 'from', 'India', 'hind']"
      ]
     },
     "execution_count": 8,
     "metadata": {},
     "output_type": "execute_result"
    }
   ],
   "source": [
    "ans"
   ]
  },
  {
   "cell_type": "markdown",
   "metadata": {},
   "source": [
    "# Program 2.1"
   ]
  },
  {
   "cell_type": "code",
   "execution_count": 13,
   "metadata": {},
   "outputs": [
    {
     "name": "stdout",
     "output_type": "stream",
     "text": [
      "[4, 2, 3]\n"
     ]
    }
   ],
   "source": [
    "def string_len(l):\n",
    "    result = []\n",
    "    for i in l:\n",
    "        result.append(len(i))\n",
    "    print(result)\n",
    "string_len([ 'erty','ab','cde'])"
   ]
  },
  {
   "cell_type": "markdown",
   "metadata": {},
   "source": [
    "# Program 2.2"
   ]
  },
  {
   "cell_type": "code",
   "execution_count": 18,
   "metadata": {},
   "outputs": [
    {
     "data": {
      "text/plain": [
       "False"
      ]
     },
     "execution_count": 18,
     "metadata": {},
     "output_type": "execute_result"
    }
   ],
   "source": [
    "def vowal(char):\n",
    "    if len(char) == 1:\n",
    "        if (char in ['a','e','i','o','u','A','E','I','O','U']):\n",
    "            return True\n",
    "        else:\n",
    "            return False\n",
    "    else:\n",
    "        print('Only Single characters are allowed')\n",
    "vowal('B')"
   ]
  }
 ],
 "metadata": {
  "kernelspec": {
   "display_name": "Python 3",
   "language": "python",
   "name": "python3"
  },
  "language_info": {
   "codemirror_mode": {
    "name": "ipython",
    "version": 3
   },
   "file_extension": ".py",
   "mimetype": "text/x-python",
   "name": "python",
   "nbconvert_exporter": "python",
   "pygments_lexer": "ipython3",
   "version": "3.7.3"
  }
 },
 "nbformat": 4,
 "nbformat_minor": 4
}
